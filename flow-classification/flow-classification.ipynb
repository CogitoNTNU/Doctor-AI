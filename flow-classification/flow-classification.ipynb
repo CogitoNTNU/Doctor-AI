{
 "cells": [
  {
   "cell_type": "code",
   "execution_count": 1,
   "metadata": {
    "collapsed": true
   },
   "outputs": [],
   "source": [
    "import keras.models\n",
    "import tensorflow as tf\n",
    "import keras.layers as layers\n",
    "from keras.callbacks import EarlyStopping\n",
    "import math\n",
    "import matplotlib.pyplot as plt"
   ]
  },
  {
   "cell_type": "code",
   "execution_count": 2,
   "outputs": [
    {
     "name": "stdout",
     "output_type": "stream",
     "text": [
      "2.9.0\n"
     ]
    }
   ],
   "source": [
    "import tensorflow as tf\n",
    "print(tf.__version__)"
   ],
   "metadata": {
    "collapsed": false,
    "pycharm": {
     "name": "#%%\n"
    }
   }
  },
  {
   "cell_type": "markdown",
   "source": [
    "## Dataset formatting"
   ],
   "metadata": {
    "collapsed": false
   }
  },
  {
   "cell_type": "code",
   "execution_count": 3,
   "outputs": [
    {
     "name": "stdout",
     "output_type": "stream",
     "text": [
      "training set\n",
      "Found 5232 files belonging to 2 classes.\n",
      "Using 4186 files for training.\n",
      "Metal device set to: Apple M1 Pro\n"
     ]
    },
    {
     "name": "stderr",
     "output_type": "stream",
     "text": [
      "2023-04-18 16:37:53.522946: I tensorflow/core/common_runtime/pluggable_device/pluggable_device_factory.cc:305] Could not identify NUMA node of platform GPU ID 0, defaulting to 0. Your kernel may not have been built with NUMA support.\n",
      "2023-04-18 16:37:53.523143: I tensorflow/core/common_runtime/pluggable_device/pluggable_device_factory.cc:271] Created TensorFlow device (/job:localhost/replica:0/task:0/device:GPU:0 with 0 MB memory) -> physical PluggableDevice (device: 0, name: METAL, pci bus id: <undefined>)\n"
     ]
    },
    {
     "name": "stdout",
     "output_type": "stream",
     "text": [
      "Found 5232 files belonging to 2 classes.\n",
      "Using 1046 files for validation.\n",
      "test set\n",
      "Found 624 files belonging to 2 classes.\n"
     ]
    }
   ],
   "source": [
    "# Define the path to the directory containing the images\n",
    "image_dir_train = '../chest_xray/train/'\n",
    "image_dir_test = '../chest_xray/test/'\n",
    "\n",
    "# Define the batch size and image size for the dataset\n",
    "batch_size = 32\n",
    "img_size = (224, 224)\n",
    "\n",
    "# Use the tf.keras.preprocessing.image_dataset_from_directory function to create the dataset\n",
    "print(\"training set\")\n",
    "train_dataset = tf.keras.preprocessing.image_dataset_from_directory(\n",
    "    image_dir_train,\n",
    "    batch_size=batch_size,\n",
    "    image_size=img_size,\n",
    "    shuffle=True,\n",
    "    seed=123,\n",
    "    validation_split=0.2,\n",
    "    subset='training'\n",
    ")\n",
    "\n",
    "validation_dataset = tf.keras.preprocessing.image_dataset_from_directory(\n",
    "    image_dir_train,\n",
    "    batch_size=batch_size,\n",
    "    image_size=img_size,\n",
    "    shuffle=True,\n",
    "    seed=123,\n",
    "    validation_split=0.2,\n",
    "    subset='validation'\n",
    ")\n",
    "\n",
    "print(\"test set\")\n",
    "test_dataset = tf.keras.preprocessing.image_dataset_from_directory(\n",
    "    image_dir_test,\n",
    "    batch_size=batch_size,\n",
    "    image_size=img_size,\n",
    "    seed=123,\n",
    "    shuffle=True,\n",
    ")"
   ],
   "metadata": {
    "collapsed": false,
    "pycharm": {
     "name": "#%%\n"
    }
   }
  },
  {
   "cell_type": "code",
   "execution_count": 4,
   "outputs": [
    {
     "name": "stdout",
     "output_type": "stream",
     "text": [
      "Found 4187 images belonging to 2 classes.\n",
      "Found 1045 images belonging to 2 classes.\n",
      "Found 624 images belonging to 2 classes.\n",
      "train dataset images: 4187\n",
      "validation dataset images: 1045\n",
      "test dataset images: 624\n"
     ]
    }
   ],
   "source": [
    "from keras.preprocessing.image import ImageDataGenerator\n",
    "\n",
    "# Create an ImageDataGenerator with data augmentation and validation_split\n",
    "datagen = ImageDataGenerator(\n",
    "    rescale=1./255,\n",
    "    rotation_range=20,\n",
    "    width_shift_range=0.2,\n",
    "    height_shift_range=0.2,\n",
    "    shear_range=0.2,\n",
    "    zoom_range=0.2,\n",
    "    horizontal_flip=True,\n",
    "    fill_mode='nearest',\n",
    "    validation_split=0.2)  # Use 20% of the data for validation\n",
    "\n",
    "# Use flow_from_directory method to load images and apply data augmentation for the training set\n",
    "train_generator = datagen.flow_from_directory(\n",
    "    image_dir_train,  # Directory containing all images\n",
    "    target_size=(224, 224),\n",
    "    batch_size=32,\n",
    "    class_mode='binary',\n",
    "    subset='training')  # Use the 'training' subset\n",
    "\n",
    "# Use flow_from_directory method to load images without data augmentation for the validation set\n",
    "val_generator = datagen.flow_from_directory(\n",
    "    image_dir_train,  # Directory containing all images\n",
    "    target_size=(224, 224),\n",
    "    batch_size=32,\n",
    "    class_mode='binary',\n",
    "    subset='validation')  # Use the 'validation' subset\n",
    "\n",
    "test_datagen = ImageDataGenerator(\n",
    "    rescale=1./255)\n",
    "\n",
    "test_generator = test_datagen.flow_from_directory(\n",
    "    image_dir_test,  # Directory containing all images\n",
    "    target_size=(224, 224),\n",
    "    batch_size=32,\n",
    "    class_mode='binary')\n",
    "\n",
    "train_steps_per_epoch = math.ceil(train_generator.n / train_generator.batch_size)\n",
    "val_steps_per_epoch = math.ceil(val_generator.n / val_generator.batch_size)\n",
    "\n",
    "print(\"train dataset images:\", train_generator.n)\n",
    "print(\"validation dataset images:\", val_generator.n)\n",
    "print(\"test dataset images:\", test_generator.n)"
   ],
   "metadata": {
    "collapsed": false,
    "pycharm": {
     "name": "#%%\n"
    }
   }
  },
  {
   "cell_type": "code",
   "execution_count": 5,
   "outputs": [],
   "source": [
    "# Preprocessing\n",
    "\n",
    "# Normalizing pixel values\n",
    "train_dataset = train_dataset.map(lambda x, y: (x/255.0, y))\n",
    "validation_dataset = validation_dataset.map(lambda x, y: (x/255.0, y))\n",
    "test_dataset = test_dataset.map(lambda x, y: (x/255.0, y))"
   ],
   "metadata": {
    "collapsed": false,
    "pycharm": {
     "name": "#%%\n"
    }
   }
  },
  {
   "cell_type": "markdown",
   "source": [
    "## Making model"
   ],
   "metadata": {
    "collapsed": false
   }
  },
  {
   "cell_type": "code",
   "execution_count": 9,
   "outputs": [],
   "source": [
    "model = keras.models.Sequential()\n",
    "\n",
    "model.add(layers.Conv2D(32, (3, 3), activation='relu', input_shape=(224, 224, 3)))\n",
    "model.add(layers.MaxPooling2D(2, 2))\n",
    "model.add(layers.Dropout(0.25))\n",
    "\n",
    "model.add(layers.Conv2D(64, (3, 3), activation='relu'))\n",
    "model.add(layers.MaxPooling2D(2, 2))\n",
    "model.add(layers.Dropout(0.25))\n",
    "\n",
    "model.add(layers.Conv2D(128, (3, 3), activation='relu'))\n",
    "model.add(layers.MaxPooling2D(2, 2))\n",
    "model.add(layers.Dropout(0.25))\n",
    "\n",
    "model.add(layers.Conv2D(256, (3, 3), activation='relu'))\n",
    "model.add(layers.MaxPooling2D(2, 2))\n",
    "model.add(layers.Dropout(0.25))\n",
    "\n",
    "model.add(layers.Conv2D(512, (3, 3), activation='relu'))\n",
    "model.add(layers.MaxPooling2D(2, 2))\n",
    "model.add(layers.Dropout(0.25))\n",
    "\n",
    "model.add(layers.Flatten())\n",
    "model.add(layers.Dense(1024, activation='relu'))\n",
    "model.add(layers.Dropout(0.5))\n",
    "\n",
    "model.add(layers.Dense(512, activation='relu'))\n",
    "model.add(layers.Dropout(0.5))\n",
    "\n",
    "model.add(layers.Dense(256, activation='relu'))\n",
    "model.add(layers.Dropout(0.25))\n",
    "\n",
    "model.add(layers.Dense(128, activation='relu'))\n",
    "model.add(layers.Dropout(0.25))\n",
    "\n",
    "model.add(layers.Dense(1, activation='sigmoid'))"
   ],
   "metadata": {
    "collapsed": false,
    "pycharm": {
     "name": "#%%\n"
    }
   }
  },
  {
   "cell_type": "code",
   "execution_count": 10,
   "outputs": [
    {
     "name": "stdout",
     "output_type": "stream",
     "text": [
      "Model: \"sequential\"\n",
      "_________________________________________________________________\n",
      " Layer (type)                Output Shape              Param #   \n",
      "=================================================================\n",
      " conv2d (Conv2D)             (None, 222, 222, 32)      896       \n",
      "                                                                 \n",
      " max_pooling2d (MaxPooling2D  (None, 111, 111, 32)     0         \n",
      " )                                                               \n",
      "                                                                 \n",
      " dropout (Dropout)           (None, 111, 111, 32)      0         \n",
      "                                                                 \n",
      " conv2d_1 (Conv2D)           (None, 109, 109, 64)      18496     \n",
      "                                                                 \n",
      " max_pooling2d_1 (MaxPooling  (None, 54, 54, 64)       0         \n",
      " 2D)                                                             \n",
      "                                                                 \n",
      " dropout_1 (Dropout)         (None, 54, 54, 64)        0         \n",
      "                                                                 \n",
      " conv2d_2 (Conv2D)           (None, 52, 52, 128)       73856     \n",
      "                                                                 \n",
      " max_pooling2d_2 (MaxPooling  (None, 26, 26, 128)      0         \n",
      " 2D)                                                             \n",
      "                                                                 \n",
      " dropout_2 (Dropout)         (None, 26, 26, 128)       0         \n",
      "                                                                 \n",
      " conv2d_3 (Conv2D)           (None, 24, 24, 256)       295168    \n",
      "                                                                 \n",
      " max_pooling2d_3 (MaxPooling  (None, 12, 12, 256)      0         \n",
      " 2D)                                                             \n",
      "                                                                 \n",
      " dropout_3 (Dropout)         (None, 12, 12, 256)       0         \n",
      "                                                                 \n",
      " conv2d_4 (Conv2D)           (None, 10, 10, 512)       1180160   \n",
      "                                                                 \n",
      " max_pooling2d_4 (MaxPooling  (None, 5, 5, 512)        0         \n",
      " 2D)                                                             \n",
      "                                                                 \n",
      " dropout_4 (Dropout)         (None, 5, 5, 512)         0         \n",
      "                                                                 \n",
      " flatten (Flatten)           (None, 12800)             0         \n",
      "                                                                 \n",
      " dense (Dense)               (None, 1024)              13108224  \n",
      "                                                                 \n",
      " dropout_5 (Dropout)         (None, 1024)              0         \n",
      "                                                                 \n",
      " dense_1 (Dense)             (None, 512)               524800    \n",
      "                                                                 \n",
      " dropout_6 (Dropout)         (None, 512)               0         \n",
      "                                                                 \n",
      " dense_2 (Dense)             (None, 256)               131328    \n",
      "                                                                 \n",
      " dropout_7 (Dropout)         (None, 256)               0         \n",
      "                                                                 \n",
      " dense_3 (Dense)             (None, 128)               32896     \n",
      "                                                                 \n",
      " dropout_8 (Dropout)         (None, 128)               0         \n",
      "                                                                 \n",
      " dense_4 (Dense)             (None, 1)                 129       \n",
      "                                                                 \n",
      "=================================================================\n",
      "Total params: 15,365,953\n",
      "Trainable params: 15,365,953\n",
      "Non-trainable params: 0\n",
      "_________________________________________________________________\n"
     ]
    }
   ],
   "source": [
    "model.summary()"
   ],
   "metadata": {
    "collapsed": false,
    "pycharm": {
     "name": "#%%\n"
    }
   }
  },
  {
   "cell_type": "markdown",
   "source": [
    "## Training model"
   ],
   "metadata": {
    "collapsed": false
   }
  },
  {
   "cell_type": "code",
   "execution_count": 11,
   "outputs": [
    {
     "name": "stdout",
     "output_type": "stream",
     "text": [
      "Epoch 1/100\n"
     ]
    },
    {
     "name": "stderr",
     "output_type": "stream",
     "text": [
      "2023-04-16 20:24:24.501533: W tensorflow/core/platform/profile_utils/cpu_utils.cc:128] Failed to get CPU frequency: 0 Hz\n",
      "2023-04-16 20:24:24.936043: I tensorflow/core/grappler/optimizers/custom_graph_optimizer_registry.cc:113] Plugin optimizer for device_type GPU is enabled.\n"
     ]
    },
    {
     "name": "stdout",
     "output_type": "stream",
     "text": [
      "131/131 [==============================] - ETA: 0s - loss: 0.5691 - accuracy: 0.7313"
     ]
    },
    {
     "name": "stderr",
     "output_type": "stream",
     "text": [
      "2023-04-16 20:25:08.304469: I tensorflow/core/grappler/optimizers/custom_graph_optimizer_registry.cc:113] Plugin optimizer for device_type GPU is enabled.\n"
     ]
    },
    {
     "name": "stdout",
     "output_type": "stream",
     "text": [
      "131/131 [==============================] - 54s 407ms/step - loss: 0.5691 - accuracy: 0.7313 - val_loss: 0.5088 - val_accuracy: 0.7426\n",
      "Epoch 2/100\n",
      "131/131 [==============================] - 50s 384ms/step - loss: 0.4790 - accuracy: 0.7425 - val_loss: 0.4229 - val_accuracy: 0.7426\n",
      "Epoch 3/100\n",
      "131/131 [==============================] - 50s 384ms/step - loss: 0.4262 - accuracy: 0.7784 - val_loss: 0.3561 - val_accuracy: 0.8077\n",
      "Epoch 4/100\n",
      "131/131 [==============================] - 51s 389ms/step - loss: 0.3352 - accuracy: 0.8464 - val_loss: 0.5791 - val_accuracy: 0.7751\n",
      "Epoch 5/100\n",
      "131/131 [==============================] - 51s 387ms/step - loss: 0.3286 - accuracy: 0.8503 - val_loss: 0.3841 - val_accuracy: 0.8182\n",
      "Epoch 6/100\n",
      "131/131 [==============================] - 50s 384ms/step - loss: 0.3094 - accuracy: 0.8631 - val_loss: 0.4469 - val_accuracy: 0.8010\n",
      "Epoch 7/100\n",
      "131/131 [==============================] - 52s 393ms/step - loss: 0.2971 - accuracy: 0.8703 - val_loss: 0.3085 - val_accuracy: 0.8612\n",
      "Epoch 8/100\n",
      "131/131 [==============================] - 52s 395ms/step - loss: 0.3132 - accuracy: 0.8660 - val_loss: 0.4024 - val_accuracy: 0.8220\n",
      "Epoch 9/100\n",
      "131/131 [==============================] - 51s 387ms/step - loss: 0.2882 - accuracy: 0.8780 - val_loss: 0.2865 - val_accuracy: 0.8679\n",
      "Epoch 10/100\n",
      "131/131 [==============================] - 51s 388ms/step - loss: 0.2856 - accuracy: 0.8753 - val_loss: 0.2788 - val_accuracy: 0.8603\n",
      "Epoch 11/100\n",
      "131/131 [==============================] - 52s 393ms/step - loss: 0.2742 - accuracy: 0.8820 - val_loss: 0.5505 - val_accuracy: 0.7809\n",
      "Epoch 12/100\n",
      "131/131 [==============================] - 51s 393ms/step - loss: 0.2609 - accuracy: 0.8825 - val_loss: 0.4591 - val_accuracy: 0.8000\n",
      "Epoch 13/100\n",
      "131/131 [==============================] - 50s 385ms/step - loss: 0.2600 - accuracy: 0.8839 - val_loss: 0.5122 - val_accuracy: 0.7981\n",
      "Epoch 14/100\n",
      "131/131 [==============================] - 50s 385ms/step - loss: 0.2479 - accuracy: 0.8877 - val_loss: 0.5088 - val_accuracy: 0.8029\n",
      "Epoch 15/100\n",
      "131/131 [==============================] - 50s 384ms/step - loss: 0.2458 - accuracy: 0.8949 - val_loss: 0.3472 - val_accuracy: 0.8411\n",
      "Epoch 16/100\n",
      "131/131 [==============================] - 50s 385ms/step - loss: 0.2437 - accuracy: 0.8947 - val_loss: 0.3517 - val_accuracy: 0.8182\n",
      "Epoch 17/100\n",
      "131/131 [==============================] - 51s 390ms/step - loss: 0.2379 - accuracy: 0.9006 - val_loss: 0.3678 - val_accuracy: 0.8421\n",
      "Epoch 18/100\n",
      "131/131 [==============================] - 50s 385ms/step - loss: 0.2244 - accuracy: 0.9052 - val_loss: 0.4589 - val_accuracy: 0.8392\n",
      "Epoch 19/100\n",
      "131/131 [==============================] - 52s 394ms/step - loss: 0.2471 - accuracy: 0.8923 - val_loss: 0.3818 - val_accuracy: 0.8354\n",
      "Epoch 20/100\n",
      "131/131 [==============================] - 53s 401ms/step - loss: 0.2257 - accuracy: 0.9006 - val_loss: 0.3209 - val_accuracy: 0.8785\n",
      "Epoch 21/100\n",
      "131/131 [==============================] - 53s 407ms/step - loss: 0.2361 - accuracy: 0.9057 - val_loss: 0.3114 - val_accuracy: 0.8737\n",
      "Epoch 22/100\n",
      "131/131 [==============================] - 52s 399ms/step - loss: 0.2191 - accuracy: 0.9045 - val_loss: 0.2001 - val_accuracy: 0.9196\n",
      "Epoch 23/100\n",
      "131/131 [==============================] - 52s 399ms/step - loss: 0.2204 - accuracy: 0.9145 - val_loss: 0.4185 - val_accuracy: 0.8191\n",
      "Epoch 24/100\n",
      "131/131 [==============================] - 52s 397ms/step - loss: 0.2166 - accuracy: 0.9078 - val_loss: 0.4130 - val_accuracy: 0.8335\n",
      "Epoch 25/100\n",
      "131/131 [==============================] - 51s 392ms/step - loss: 0.2008 - accuracy: 0.9205 - val_loss: 0.1992 - val_accuracy: 0.9177\n",
      "Epoch 26/100\n",
      "131/131 [==============================] - 51s 393ms/step - loss: 0.2128 - accuracy: 0.9092 - val_loss: 0.4908 - val_accuracy: 0.7981\n",
      "Epoch 27/100\n",
      "131/131 [==============================] - 51s 392ms/step - loss: 0.1919 - accuracy: 0.9171 - val_loss: 0.2444 - val_accuracy: 0.8967\n",
      "Epoch 28/100\n",
      "131/131 [==============================] - 51s 392ms/step - loss: 0.2003 - accuracy: 0.9205 - val_loss: 0.2808 - val_accuracy: 0.8746\n",
      "Epoch 29/100\n",
      "131/131 [==============================] - 52s 394ms/step - loss: 0.1937 - accuracy: 0.9200 - val_loss: 0.4877 - val_accuracy: 0.8287\n",
      "Epoch 30/100\n",
      "131/131 [==============================] - 52s 394ms/step - loss: 0.1863 - accuracy: 0.9241 - val_loss: 0.2565 - val_accuracy: 0.8756\n",
      "Epoch 31/100\n",
      "131/131 [==============================] - 52s 393ms/step - loss: 0.1918 - accuracy: 0.9209 - val_loss: 0.3303 - val_accuracy: 0.8612\n",
      "Epoch 32/100\n",
      "131/131 [==============================] - 53s 403ms/step - loss: 0.1955 - accuracy: 0.9231 - val_loss: 0.2300 - val_accuracy: 0.9129\n",
      "Epoch 33/100\n",
      "131/131 [==============================] - 52s 397ms/step - loss: 0.1800 - accuracy: 0.9245 - val_loss: 0.1985 - val_accuracy: 0.9139\n",
      "Epoch 34/100\n",
      "131/131 [==============================] - 52s 397ms/step - loss: 0.1821 - accuracy: 0.9286 - val_loss: 0.3767 - val_accuracy: 0.8632\n",
      "Epoch 35/100\n",
      "131/131 [==============================] - 52s 395ms/step - loss: 0.1729 - accuracy: 0.9226 - val_loss: 0.3333 - val_accuracy: 0.8708\n",
      "Epoch 36/100\n",
      "131/131 [==============================] - 52s 396ms/step - loss: 0.1849 - accuracy: 0.9269 - val_loss: 0.2159 - val_accuracy: 0.9014\n",
      "Epoch 37/100\n",
      "131/131 [==============================] - 51s 390ms/step - loss: 0.1727 - accuracy: 0.9293 - val_loss: 0.3017 - val_accuracy: 0.8766\n",
      "Epoch 38/100\n",
      "131/131 [==============================] - 50s 385ms/step - loss: 0.1731 - accuracy: 0.9293 - val_loss: 0.3673 - val_accuracy: 0.8517\n",
      "Epoch 39/100\n",
      "131/131 [==============================] - 50s 385ms/step - loss: 0.1696 - accuracy: 0.9381 - val_loss: 0.4064 - val_accuracy: 0.8258\n",
      "Epoch 40/100\n",
      "131/131 [==============================] - 51s 386ms/step - loss: 0.1693 - accuracy: 0.9319 - val_loss: 0.4258 - val_accuracy: 0.8297\n",
      "Epoch 41/100\n",
      "131/131 [==============================] - 50s 385ms/step - loss: 0.1647 - accuracy: 0.9319 - val_loss: 0.4942 - val_accuracy: 0.8517\n",
      "Epoch 42/100\n",
      "131/131 [==============================] - 50s 385ms/step - loss: 0.1566 - accuracy: 0.9401 - val_loss: 0.2754 - val_accuracy: 0.8852\n",
      "Epoch 43/100\n",
      "131/131 [==============================] - 53s 402ms/step - loss: 0.1590 - accuracy: 0.9403 - val_loss: 0.3708 - val_accuracy: 0.8498\n",
      "Epoch 44/100\n",
      "131/131 [==============================] - 57s 433ms/step - loss: 0.1679 - accuracy: 0.9353 - val_loss: 0.2369 - val_accuracy: 0.9005\n",
      "Epoch 45/100\n",
      "131/131 [==============================] - 55s 422ms/step - loss: 0.1635 - accuracy: 0.9391 - val_loss: 0.2815 - val_accuracy: 0.8622\n",
      "Epoch 46/100\n",
      "131/131 [==============================] - 55s 420ms/step - loss: 0.1545 - accuracy: 0.9384 - val_loss: 0.3281 - val_accuracy: 0.8574\n",
      "Epoch 47/100\n",
      "131/131 [==============================] - 53s 401ms/step - loss: 0.1588 - accuracy: 0.9372 - val_loss: 0.2720 - val_accuracy: 0.8880\n",
      "Epoch 48/100\n",
      "131/131 [==============================] - 52s 397ms/step - loss: 0.1678 - accuracy: 0.9341 - val_loss: 0.1895 - val_accuracy: 0.9196\n",
      "Epoch 49/100\n",
      "131/131 [==============================] - 52s 396ms/step - loss: 0.1535 - accuracy: 0.9362 - val_loss: 0.3656 - val_accuracy: 0.8488\n",
      "Epoch 50/100\n",
      "131/131 [==============================] - 53s 401ms/step - loss: 0.1415 - accuracy: 0.9429 - val_loss: 0.3119 - val_accuracy: 0.8775\n",
      "Epoch 51/100\n",
      "131/131 [==============================] - 53s 406ms/step - loss: 0.1758 - accuracy: 0.9334 - val_loss: 0.2884 - val_accuracy: 0.8364\n",
      "Epoch 52/100\n",
      "131/131 [==============================] - 52s 398ms/step - loss: 0.1605 - accuracy: 0.9365 - val_loss: 0.2875 - val_accuracy: 0.8880\n",
      "Epoch 53/100\n",
      "131/131 [==============================] - 51s 393ms/step - loss: 0.1403 - accuracy: 0.9439 - val_loss: 0.1611 - val_accuracy: 0.9321\n",
      "Epoch 54/100\n",
      "131/131 [==============================] - 52s 398ms/step - loss: 0.1441 - accuracy: 0.9463 - val_loss: 0.2778 - val_accuracy: 0.8833\n",
      "Epoch 55/100\n",
      "131/131 [==============================] - 52s 393ms/step - loss: 0.1536 - accuracy: 0.9391 - val_loss: 0.2677 - val_accuracy: 0.8938\n",
      "Epoch 56/100\n",
      "131/131 [==============================] - 52s 397ms/step - loss: 0.1512 - accuracy: 0.9439 - val_loss: 0.7092 - val_accuracy: 0.8134\n",
      "Epoch 57/100\n",
      "131/131 [==============================] - 52s 397ms/step - loss: 0.1435 - accuracy: 0.9467 - val_loss: 0.3204 - val_accuracy: 0.8967\n",
      "Epoch 58/100\n",
      "131/131 [==============================] - 52s 397ms/step - loss: 0.1385 - accuracy: 0.9489 - val_loss: 0.1904 - val_accuracy: 0.9177\n",
      "Epoch 59/100\n",
      "131/131 [==============================] - 52s 397ms/step - loss: 0.1447 - accuracy: 0.9439 - val_loss: 0.3037 - val_accuracy: 0.8708\n",
      "Epoch 60/100\n",
      "131/131 [==============================] - 52s 397ms/step - loss: 0.1409 - accuracy: 0.9458 - val_loss: 0.2781 - val_accuracy: 0.8823\n",
      "Epoch 61/100\n",
      "131/131 [==============================] - 52s 399ms/step - loss: 0.1391 - accuracy: 0.9432 - val_loss: 0.3541 - val_accuracy: 0.8660\n",
      "Epoch 62/100\n",
      "131/131 [==============================] - 54s 409ms/step - loss: 0.1378 - accuracy: 0.9467 - val_loss: 0.3006 - val_accuracy: 0.8593\n",
      "Epoch 63/100\n",
      "131/131 [==============================] - 54s 413ms/step - loss: 0.1357 - accuracy: 0.9475 - val_loss: 0.2414 - val_accuracy: 0.9110\n",
      "Epoch 64/100\n",
      "131/131 [==============================] - 54s 410ms/step - loss: 0.1394 - accuracy: 0.9467 - val_loss: 0.1495 - val_accuracy: 0.9311\n",
      "Epoch 65/100\n",
      "131/131 [==============================] - 51s 392ms/step - loss: 0.1439 - accuracy: 0.9427 - val_loss: 0.1582 - val_accuracy: 0.9407\n",
      "Epoch 66/100\n",
      "131/131 [==============================] - 51s 389ms/step - loss: 0.1457 - accuracy: 0.9434 - val_loss: 0.1837 - val_accuracy: 0.9359\n",
      "Epoch 67/100\n",
      "131/131 [==============================] - 51s 389ms/step - loss: 0.1304 - accuracy: 0.9537 - val_loss: 0.2897 - val_accuracy: 0.8708\n",
      "Epoch 68/100\n",
      "131/131 [==============================] - 52s 395ms/step - loss: 0.1341 - accuracy: 0.9489 - val_loss: 0.2899 - val_accuracy: 0.8689\n",
      "Epoch 69/100\n",
      "131/131 [==============================] - 55s 418ms/step - loss: 0.1280 - accuracy: 0.9484 - val_loss: 0.3072 - val_accuracy: 0.8842\n",
      "Epoch 70/100\n",
      "131/131 [==============================] - 53s 404ms/step - loss: 0.1337 - accuracy: 0.9479 - val_loss: 0.3348 - val_accuracy: 0.8545\n",
      "Epoch 71/100\n",
      "131/131 [==============================] - 54s 415ms/step - loss: 0.1380 - accuracy: 0.9496 - val_loss: 0.2472 - val_accuracy: 0.8785\n",
      "Epoch 72/100\n",
      "131/131 [==============================] - 53s 407ms/step - loss: 0.1313 - accuracy: 0.9463 - val_loss: 0.4671 - val_accuracy: 0.8526\n",
      "Epoch 73/100\n",
      "131/131 [==============================] - 51s 391ms/step - loss: 0.1329 - accuracy: 0.9491 - val_loss: 0.3487 - val_accuracy: 0.8603\n",
      "Epoch 74/100\n",
      "131/131 [==============================] - 51s 386ms/step - loss: 0.1325 - accuracy: 0.9482 - val_loss: 0.3430 - val_accuracy: 0.8737\n",
      "Epoch 75/100\n",
      "131/131 [==============================] - 53s 401ms/step - loss: 0.1266 - accuracy: 0.9522 - val_loss: 0.7175 - val_accuracy: 0.7885\n",
      "Epoch 76/100\n",
      "131/131 [==============================] - 54s 409ms/step - loss: 0.1270 - accuracy: 0.9522 - val_loss: 0.2250 - val_accuracy: 0.9120\n",
      "Epoch 77/100\n",
      "131/131 [==============================] - 54s 411ms/step - loss: 0.1265 - accuracy: 0.9525 - val_loss: 0.3226 - val_accuracy: 0.8861\n",
      "Epoch 78/100\n",
      "131/131 [==============================] - 54s 413ms/step - loss: 0.1234 - accuracy: 0.9541 - val_loss: 0.3910 - val_accuracy: 0.8450\n",
      "Epoch 79/100\n",
      "131/131 [==============================] - 53s 406ms/step - loss: 0.1332 - accuracy: 0.9515 - val_loss: 0.1572 - val_accuracy: 0.9368\n"
     ]
    }
   ],
   "source": [
    "# Train the model\n",
    "model.compile(loss='binary_crossentropy', optimizer='adam', metrics=['accuracy'])\n",
    "\n",
    "# Create early stopping callback\n",
    "early_stopping = EarlyStopping(monitor='val_loss', patience=30, restore_best_weights=True)\n",
    "\n",
    "history = model.fit(\n",
    "    train_generator,\n",
    "    steps_per_epoch=train_steps_per_epoch,\n",
    "    epochs=100,\n",
    "    validation_data=val_generator,\n",
    "    validation_steps=val_steps_per_epoch,\n",
    "    callbacks=[early_stopping])\n",
    "\n"
   ],
   "metadata": {
    "collapsed": false,
    "pycharm": {
     "name": "#%%\n"
    }
   }
  },
  {
   "cell_type": "code",
   "execution_count": 6,
   "outputs": [
    {
     "ename": "NameError",
     "evalue": "name 'model' is not defined",
     "output_type": "error",
     "traceback": [
      "\u001B[0;31m---------------------------------------------------------------------------\u001B[0m",
      "\u001B[0;31mNameError\u001B[0m                                 Traceback (most recent call last)",
      "Cell \u001B[0;32mIn[6], line 2\u001B[0m\n\u001B[1;32m      1\u001B[0m \u001B[38;5;66;03m# Evaluate the model on the test dataset\u001B[39;00m\n\u001B[0;32m----> 2\u001B[0m test_loss, test_accuracy \u001B[38;5;241m=\u001B[39m \u001B[43mmodel\u001B[49m\u001B[38;5;241m.\u001B[39mevaluate(test_generator)\n\u001B[1;32m      4\u001B[0m \u001B[38;5;66;03m# Print the test accuracy\u001B[39;00m\n\u001B[1;32m      5\u001B[0m \u001B[38;5;28mprint\u001B[39m(\u001B[38;5;124m'\u001B[39m\u001B[38;5;124mTest accuracy:\u001B[39m\u001B[38;5;124m'\u001B[39m, test_accuracy)\n",
      "\u001B[0;31mNameError\u001B[0m: name 'model' is not defined"
     ]
    }
   ],
   "source": [
    "# Evaluate the model on the test dataset\n",
    "test_loss, test_accuracy = model.evaluate(test_generator)\n",
    "\n",
    "# Print the test accuracy\n",
    "print('Test accuracy:', test_accuracy)"
   ],
   "metadata": {
    "collapsed": false,
    "pycharm": {
     "name": "#%%\n"
    }
   }
  },
  {
   "cell_type": "code",
   "execution_count": 13,
   "outputs": [
    {
     "data": {
      "text/plain": "<Figure size 640x480 with 1 Axes>",
      "image/png": "[encoded data removed]"
     },
     "metadata": {},
     "output_type": "display_data"
    }
   ],
   "source": [
    "# Extract the metrics from the history object\n",
    "loss = history.history['loss']\n",
    "val_loss = history.history['val_loss']\n",
    "accuracy = history.history['accuracy']\n",
    "val_accuracy = history.history['val_accuracy']\n",
    "\n",
    "# Plot training and validation loss\n",
    "plt.figure()\n",
    "plt.plot(loss, label='Training Loss')\n",
    "plt.plot(val_loss, label='Validation Loss')\n",
    "plt.title('Training and Validation Loss')\n",
    "plt.xlabel('Epoch')\n",
    "plt.ylabel('Loss')\n",
    "plt.legend()\n",
    "plt.show()"
   ],
   "metadata": {
    "collapsed": false,
    "pycharm": {
     "name": "#%%\n"
    }
   }
  },
  {
   "cell_type": "code",
   "execution_count": 14,
   "outputs": [
    {
     "data": {
      "text/plain": "<Figure size 640x480 with 1 Axes>",
      "image/png": "[encoded data removed]"
     },
     "metadata": {},
     "output_type": "display_data"
    }
   ],
   "source": [
    "# Plot training and validation accuracy\n",
    "plt.figure()\n",
    "plt.plot(accuracy, label='Training Accuracy')\n",
    "plt.plot(val_accuracy, label='Validation Accuracy')\n",
    "plt.title('Training and Validation Accuracy')\n",
    "plt.xlabel('Epoch')\n",
    "plt.ylabel('Accuracy')\n",
    "plt.legend()\n",
    "plt.show()"
   ],
   "metadata": {
    "collapsed": false,
    "pycharm": {
     "name": "#%%\n"
    }
   }
  },
  {
   "cell_type": "code",
   "execution_count": 11,
   "outputs": [
    {
     "name": "stderr",
     "output_type": "stream",
     "text": [
      "2023-04-20 14:37:24.517294: I tensorflow/core/grappler/optimizers/custom_graph_optimizer_registry.cc:113] Plugin optimizer for device_type GPU is enabled.\n"
     ]
    },
    {
     "name": "stdout",
     "output_type": "stream",
     "text": [
      "20/20 [==============================] - 3s 159ms/step - loss: 0.2324 - accuracy: 0.9199\n"
     ]
    },
    {
     "ename": "NameError",
     "evalue": "name 'test_accuracy' is not defined",
     "output_type": "error",
     "traceback": [
      "\u001B[0;31m---------------------------------------------------------------------------\u001B[0m",
      "\u001B[0;31mNameError\u001B[0m                                 Traceback (most recent call last)",
      "Cell \u001B[0;32mIn[11], line 4\u001B[0m\n\u001B[1;32m      1\u001B[0m oldModel \u001B[38;5;241m=\u001B[39m keras\u001B[38;5;241m.\u001B[39mmodels\u001B[38;5;241m.\u001B[39mload_model(\u001B[38;5;124m'\u001B[39m\u001B[38;5;124mmodels/my_custom_model.h5\u001B[39m\u001B[38;5;124m'\u001B[39m)\n\u001B[1;32m      2\u001B[0m old_test_loss, old_test_accuracy \u001B[38;5;241m=\u001B[39m oldModel\u001B[38;5;241m.\u001B[39mevaluate(test_generator)\n\u001B[0;32m----> 4\u001B[0m \u001B[38;5;28;01mif\u001B[39;00m old_test_accuracy \u001B[38;5;241m<\u001B[39m \u001B[43mtest_accuracy\u001B[49m:\n\u001B[1;32m      5\u001B[0m     model\u001B[38;5;241m.\u001B[39msave(\u001B[38;5;124m'\u001B[39m\u001B[38;5;124mmodels/my_custom_model.h5\u001B[39m\u001B[38;5;124m'\u001B[39m)\n",
      "\u001B[0;31mNameError\u001B[0m: name 'test_accuracy' is not defined"
     ]
    }
   ],
   "source": [
    "oldModel = keras.models.load_model('models/my_custom_model.h5')\n",
    "old_test_loss, old_test_accuracy = oldModel.evaluate(test_generator)\n",
    "\n",
    "if old_test_accuracy < test_accuracy:\n",
    "    model.save('models/my_custom_model.h5')"
   ],
   "metadata": {
    "collapsed": false,
    "pycharm": {
     "name": "#%%\n"
    }
   }
  },
  {
   "cell_type": "code",
   "execution_count": 7,
   "outputs": [
    {
     "name": "stderr",
     "output_type": "stream",
     "text": [
      "2023-04-18 16:38:21.820503: W tensorflow/core/platform/profile_utils/cpu_utils.cc:128] Failed to get CPU frequency: 0 Hz\n",
      "2023-04-18 16:38:21.887369: I tensorflow/core/grappler/optimizers/custom_graph_optimizer_registry.cc:113] Plugin optimizer for device_type GPU is enabled.\n"
     ]
    },
    {
     "name": "stdout",
     "output_type": "stream",
     "text": [
      "20/20 [==============================] - 4s 165ms/step - loss: 0.2425 - accuracy: 0.9103\n"
     ]
    },
    {
     "name": "stderr",
     "output_type": "stream",
     "text": [
      "WARNING:absl:Found untraced functions such as _jit_compiled_convolution_op, _jit_compiled_convolution_op, _jit_compiled_convolution_op, _jit_compiled_convolution_op while saving (showing 4 of 4). These functions will not be directly callable after loading.\n"
     ]
    },
    {
     "name": "stdout",
     "output_type": "stream",
     "text": [
      "INFO:tensorflow:Assets written to: ram://bfb516ea-51ce-4e40-9039-f8ef95446ae2/assets\n"
     ]
    },
    {
     "name": "stderr",
     "output_type": "stream",
     "text": [
      "INFO:tensorflow:Assets written to: ram://bfb516ea-51ce-4e40-9039-f8ef95446ae2/assets\n"
     ]
    }
   ],
   "source": [
    "import copy\n",
    "oldModel = keras.models.load_model('models/my_custom_model.h5')\n",
    "old_test_loss, old_test_accuracy = oldModel.evaluate(test_generator)\n",
    "\n",
    "newOldModel = copy.deepcopy(oldModel)"
   ],
   "metadata": {
    "collapsed": false,
    "pycharm": {
     "name": "#%%\n"
    }
   }
  },
  {
   "cell_type": "code",
   "execution_count": 8,
   "outputs": [
    {
     "name": "stdout",
     "output_type": "stream",
     "text": [
      "Model: \"sequential\"\n",
      "_________________________________________________________________\n",
      " Layer (type)                Output Shape              Param #   \n",
      "=================================================================\n",
      " conv2d (Conv2D)             (None, 222, 222, 32)      896       \n",
      "                                                                 \n",
      " max_pooling2d (MaxPooling2D  (None, 111, 111, 32)     0         \n",
      " )                                                               \n",
      "                                                                 \n",
      " dropout (Dropout)           (None, 111, 111, 32)      0         \n",
      "                                                                 \n",
      " conv2d_1 (Conv2D)           (None, 109, 109, 64)      18496     \n",
      "                                                                 \n",
      " max_pooling2d_1 (MaxPooling  (None, 54, 54, 64)       0         \n",
      " 2D)                                                             \n",
      "                                                                 \n",
      " dropout_1 (Dropout)         (None, 54, 54, 64)        0         \n",
      "                                                                 \n",
      " conv2d_2 (Conv2D)           (None, 52, 52, 128)       73856     \n",
      "                                                                 \n",
      " max_pooling2d_2 (MaxPooling  (None, 26, 26, 128)      0         \n",
      " 2D)                                                             \n",
      "                                                                 \n",
      " dropout_2 (Dropout)         (None, 26, 26, 128)       0         \n",
      "                                                                 \n",
      " conv2d_3 (Conv2D)           (None, 24, 24, 256)       295168    \n",
      "                                                                 \n",
      " max_pooling2d_3 (MaxPooling  (None, 12, 12, 256)      0         \n",
      " 2D)                                                             \n",
      "                                                                 \n",
      " dropout_3 (Dropout)         (None, 12, 12, 256)       0         \n",
      "                                                                 \n",
      " flatten (Flatten)           (None, 36864)             0         \n",
      "                                                                 \n",
      " dense (Dense)               (None, 1024)              37749760  \n",
      "                                                                 \n",
      " dropout_4 (Dropout)         (None, 1024)              0         \n",
      "                                                                 \n",
      " dense_1 (Dense)             (None, 512)               524800    \n",
      "                                                                 \n",
      " dropout_5 (Dropout)         (None, 512)               0         \n",
      "                                                                 \n",
      " dense_2 (Dense)             (None, 256)               131328    \n",
      "                                                                 \n",
      " dropout_6 (Dropout)         (None, 256)               0         \n",
      "                                                                 \n",
      " dense_3 (Dense)             (None, 128)               32896     \n",
      "                                                                 \n",
      " dropout_7 (Dropout)         (None, 128)               0         \n",
      "                                                                 \n",
      " dense_4 (Dense)             (None, 1)                 129       \n",
      "                                                                 \n",
      "=================================================================\n",
      "Total params: 38,827,329\n",
      "Trainable params: 38,827,329\n",
      "Non-trainable params: 0\n",
      "_________________________________________________________________\n"
     ]
    }
   ],
   "source": [
    "oldModel.summary()"
   ],
   "metadata": {
    "collapsed": false,
    "pycharm": {
     "name": "#%%\n"
    }
   }
  },
  {
   "cell_type": "code",
   "execution_count": null,
   "outputs": [
    {
     "name": "stdout",
     "output_type": "stream",
     "text": [
      "Epoch 1/500\n"
     ]
    },
    {
     "name": "stderr",
     "output_type": "stream",
     "text": [
      "2023-04-18 16:38:52.215065: I tensorflow/core/grappler/optimizers/custom_graph_optimizer_registry.cc:113] Plugin optimizer for device_type GPU is enabled.\n"
     ]
    },
    {
     "name": "stdout",
     "output_type": "stream",
     "text": [
      "131/131 [==============================] - ETA: 0s - loss: 0.1526 - accuracy: 0.9412"
     ]
    },
    {
     "name": "stderr",
     "output_type": "stream",
     "text": [
      "2023-04-18 16:39:38.906105: I tensorflow/core/grappler/optimizers/custom_graph_optimizer_registry.cc:113] Plugin optimizer for device_type GPU is enabled.\n"
     ]
    },
    {
     "name": "stdout",
     "output_type": "stream",
     "text": [
      "131/131 [==============================] - 57s 418ms/step - loss: 0.1526 - accuracy: 0.9412 - val_loss: 0.2573 - val_accuracy: 0.9167\n",
      "Epoch 2/500\n",
      "131/131 [==============================] - 53s 402ms/step - loss: 0.1624 - accuracy: 0.9403 - val_loss: 0.2121 - val_accuracy: 0.9234\n",
      "Epoch 3/500\n",
      "131/131 [==============================] - 53s 402ms/step - loss: 0.1653 - accuracy: 0.9386 - val_loss: 0.1840 - val_accuracy: 0.9196\n",
      "Epoch 4/500\n",
      "131/131 [==============================] - 52s 400ms/step - loss: 0.1608 - accuracy: 0.9441 - val_loss: 0.4666 - val_accuracy: 0.8976\n",
      "Epoch 5/500\n",
      "131/131 [==============================] - 53s 403ms/step - loss: 0.1523 - accuracy: 0.9448 - val_loss: 0.1593 - val_accuracy: 0.9359\n",
      "Epoch 6/500\n",
      "131/131 [==============================] - 52s 400ms/step - loss: 0.1374 - accuracy: 0.9467 - val_loss: 0.3436 - val_accuracy: 0.9167\n",
      "Epoch 7/500\n",
      "131/131 [==============================] - 52s 400ms/step - loss: 0.1500 - accuracy: 0.9439 - val_loss: 0.1748 - val_accuracy: 0.9445\n",
      "Epoch 8/500\n",
      "131/131 [==============================] - 53s 401ms/step - loss: 0.1581 - accuracy: 0.9367 - val_loss: 0.1344 - val_accuracy: 0.9445\n",
      "Epoch 9/500\n",
      "131/131 [==============================] - 53s 403ms/step - loss: 0.1451 - accuracy: 0.9429 - val_loss: 0.1751 - val_accuracy: 0.9435\n",
      "Epoch 10/500\n",
      "131/131 [==============================] - 53s 404ms/step - loss: 0.1415 - accuracy: 0.9446 - val_loss: 0.1669 - val_accuracy: 0.9349\n",
      "Epoch 11/500\n",
      "131/131 [==============================] - 53s 405ms/step - loss: 0.1358 - accuracy: 0.9455 - val_loss: 0.5606 - val_accuracy: 0.8268\n",
      "Epoch 12/500\n",
      "131/131 [==============================] - 53s 404ms/step - loss: 0.1430 - accuracy: 0.9475 - val_loss: 0.2101 - val_accuracy: 0.9120\n",
      "Epoch 13/500\n",
      "131/131 [==============================] - 53s 403ms/step - loss: 0.1403 - accuracy: 0.9448 - val_loss: 0.1426 - val_accuracy: 0.9483\n",
      "Epoch 14/500\n",
      "131/131 [==============================] - 53s 405ms/step - loss: 0.1412 - accuracy: 0.9446 - val_loss: 0.1865 - val_accuracy: 0.9292\n",
      "Epoch 15/500\n",
      "131/131 [==============================] - 53s 404ms/step - loss: 0.1348 - accuracy: 0.9479 - val_loss: 0.1458 - val_accuracy: 0.9455\n",
      "Epoch 16/500\n",
      "131/131 [==============================] - 53s 403ms/step - loss: 0.1528 - accuracy: 0.9432 - val_loss: 0.1964 - val_accuracy: 0.9110\n",
      "Epoch 17/500\n",
      "131/131 [==============================] - 53s 404ms/step - loss: 0.1282 - accuracy: 0.9494 - val_loss: 0.5557 - val_accuracy: 0.8660\n",
      "Epoch 18/500\n",
      "131/131 [==============================] - 53s 405ms/step - loss: 0.1316 - accuracy: 0.9503 - val_loss: 0.1862 - val_accuracy: 0.9244\n",
      "Epoch 19/500\n",
      "131/131 [==============================] - 53s 404ms/step - loss: 0.1344 - accuracy: 0.9472 - val_loss: 0.1374 - val_accuracy: 0.9455\n",
      "Epoch 20/500\n",
      "131/131 [==============================] - 55s 417ms/step - loss: 0.1319 - accuracy: 0.9491 - val_loss: 0.2464 - val_accuracy: 0.9024\n",
      "Epoch 21/500\n",
      "131/131 [==============================] - 53s 406ms/step - loss: 0.1378 - accuracy: 0.9484 - val_loss: 0.2825 - val_accuracy: 0.8986\n",
      "Epoch 22/500\n",
      "131/131 [==============================] - 56s 425ms/step - loss: 0.1306 - accuracy: 0.9446 - val_loss: 0.1460 - val_accuracy: 0.9455\n",
      "Epoch 23/500\n",
      "131/131 [==============================] - 52s 394ms/step - loss: 0.1398 - accuracy: 0.9470 - val_loss: 0.1708 - val_accuracy: 0.9359\n",
      "Epoch 24/500\n",
      "131/131 [==============================] - 53s 401ms/step - loss: 0.1223 - accuracy: 0.9508 - val_loss: 0.1332 - val_accuracy: 0.9531\n",
      "Epoch 25/500\n",
      "131/131 [==============================] - 52s 398ms/step - loss: 0.1258 - accuracy: 0.9522 - val_loss: 0.1538 - val_accuracy: 0.9416\n",
      "Epoch 26/500\n",
      "131/131 [==============================] - 52s 397ms/step - loss: 0.1364 - accuracy: 0.9494 - val_loss: 0.1520 - val_accuracy: 0.9445\n",
      "Epoch 27/500\n",
      "131/131 [==============================] - 52s 398ms/step - loss: 0.1313 - accuracy: 0.9501 - val_loss: 0.1428 - val_accuracy: 0.9445\n",
      "Epoch 28/500\n",
      "131/131 [==============================] - 52s 398ms/step - loss: 0.1625 - accuracy: 0.9389 - val_loss: 0.1558 - val_accuracy: 0.9483\n",
      "Epoch 29/500\n",
      "131/131 [==============================] - 52s 398ms/step - loss: 0.1292 - accuracy: 0.9515 - val_loss: 0.1885 - val_accuracy: 0.9158\n",
      "Epoch 30/500\n",
      "131/131 [==============================] - 52s 398ms/step - loss: 0.1256 - accuracy: 0.9563 - val_loss: 0.1305 - val_accuracy: 0.9483\n",
      "Epoch 31/500\n",
      "131/131 [==============================] - 52s 398ms/step - loss: 0.1241 - accuracy: 0.9532 - val_loss: 0.1370 - val_accuracy: 0.9531\n",
      "Epoch 32/500\n",
      "131/131 [==============================] - 52s 398ms/step - loss: 0.1330 - accuracy: 0.9494 - val_loss: 0.1968 - val_accuracy: 0.9493\n",
      "Epoch 33/500\n",
      "131/131 [==============================] - 53s 401ms/step - loss: 0.1202 - accuracy: 0.9537 - val_loss: 0.2304 - val_accuracy: 0.9254\n",
      "Epoch 34/500\n",
      "131/131 [==============================] - 52s 399ms/step - loss: 0.1108 - accuracy: 0.9582 - val_loss: 0.1603 - val_accuracy: 0.9464\n",
      "Epoch 35/500\n",
      "131/131 [==============================] - 52s 400ms/step - loss: 0.1308 - accuracy: 0.9518 - val_loss: 0.3701 - val_accuracy: 0.9100\n",
      "Epoch 36/500\n",
      "131/131 [==============================] - 52s 399ms/step - loss: 0.1212 - accuracy: 0.9515 - val_loss: 0.2220 - val_accuracy: 0.9215\n",
      "Epoch 37/500\n",
      "131/131 [==============================] - 53s 401ms/step - loss: 0.1299 - accuracy: 0.9529 - val_loss: 0.1278 - val_accuracy: 0.9512\n",
      "Epoch 38/500\n",
      "131/131 [==============================] - 54s 411ms/step - loss: 0.1179 - accuracy: 0.9532 - val_loss: 0.1438 - val_accuracy: 0.9455\n",
      "Epoch 39/500\n",
      "131/131 [==============================] - 53s 402ms/step - loss: 0.1157 - accuracy: 0.9558 - val_loss: 0.1953 - val_accuracy: 0.9349\n",
      "Epoch 40/500\n",
      "131/131 [==============================] - 52s 399ms/step - loss: 0.1244 - accuracy: 0.9518 - val_loss: 0.1171 - val_accuracy: 0.9617\n",
      "Epoch 41/500\n",
      "131/131 [==============================] - 53s 406ms/step - loss: 0.1244 - accuracy: 0.9577 - val_loss: 0.1337 - val_accuracy: 0.9512\n",
      "Epoch 42/500\n",
      "131/131 [==============================] - 53s 404ms/step - loss: 0.1311 - accuracy: 0.9496 - val_loss: 0.1373 - val_accuracy: 0.9435\n",
      "Epoch 43/500\n",
      "131/131 [==============================] - 54s 409ms/step - loss: 0.1152 - accuracy: 0.9589 - val_loss: 0.1642 - val_accuracy: 0.9407\n",
      "Epoch 44/500\n",
      "131/131 [==============================] - 53s 401ms/step - loss: 0.1201 - accuracy: 0.9561 - val_loss: 0.1165 - val_accuracy: 0.9589\n",
      "Epoch 45/500\n",
      "131/131 [==============================] - 53s 404ms/step - loss: 0.1206 - accuracy: 0.9527 - val_loss: 0.2854 - val_accuracy: 0.9177\n",
      "Epoch 46/500\n",
      "131/131 [==============================] - 52s 398ms/step - loss: 0.1171 - accuracy: 0.9561 - val_loss: 0.1793 - val_accuracy: 0.9225\n",
      "Epoch 47/500\n",
      "131/131 [==============================] - 53s 404ms/step - loss: 0.1162 - accuracy: 0.9572 - val_loss: 0.1718 - val_accuracy: 0.9388\n",
      "Epoch 48/500\n",
      "131/131 [==============================] - 52s 400ms/step - loss: 0.1362 - accuracy: 0.9508 - val_loss: 0.1548 - val_accuracy: 0.9378\n",
      "Epoch 49/500\n",
      "131/131 [==============================] - 53s 401ms/step - loss: 0.1163 - accuracy: 0.9572 - val_loss: 0.2084 - val_accuracy: 0.9196\n",
      "Epoch 50/500\n",
      "131/131 [==============================] - 52s 398ms/step - loss: 0.1224 - accuracy: 0.9561 - val_loss: 0.1757 - val_accuracy: 0.9502\n",
      "Epoch 51/500\n",
      "105/131 [=======================>......] - ETA: 8s - loss: 0.1180 - accuracy: 0.9580"
     ]
    }
   ],
   "source": [
    "\n",
    "\n",
    "oldModel = keras.models.load_model('models/my_custom_model.h5')\n",
    "\n",
    "# Train the model\n",
    "newOldModel.compile(loss='binary_crossentropy', optimizer='adam', metrics=['accuracy'])\n",
    "\n",
    "# Create early stopping callback\n",
    "early_stopping = EarlyStopping(monitor='val_loss', patience=50, restore_best_weights=True)\n",
    "\n",
    "history = newOldModel.fit(\n",
    "    train_generator,\n",
    "    steps_per_epoch=train_steps_per_epoch,\n",
    "    epochs=500,\n",
    "    validation_data=val_generator,\n",
    "    validation_steps=val_steps_per_epoch,\n",
    "    callbacks=[early_stopping])"
   ],
   "metadata": {
    "collapsed": false,
    "pycharm": {
     "name": "#%%\n",
     "is_executing": true
    }
   }
  },
  {
   "cell_type": "code",
   "execution_count": null,
   "outputs": [],
   "source": [
    "newOldModel.evaluate(test_generator)"
   ],
   "metadata": {
    "collapsed": false,
    "pycharm": {
     "name": "#%%\n",
     "is_executing": true
    }
   }
  },
  {
   "cell_type": "code",
   "execution_count": null,
   "outputs": [],
   "source": [],
   "metadata": {
    "collapsed": false,
    "pycharm": {
     "name": "#%%\n"
    }
   }
  }
 ],
 "metadata": {
  "kernelspec": {
   "name": "python3",
   "language": "python",
   "display_name": "Python 3 (ipykernel)"
  },
  "language_info": {
   "codemirror_mode": {
    "name": "ipython",
    "version": 2
   },
   "file_extension": ".py",
   "mimetype": "text/x-python",
   "name": "python",
   "nbconvert_exporter": "python",
   "pygments_lexer": "ipython2",
   "version": "2.7.6"
  }
 },
 "nbformat": 4,
 "nbformat_minor": 0
}