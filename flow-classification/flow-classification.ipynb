{
 "cells": [
  {
   "cell_type": "code",
   "execution_count": 74,
   "metadata": {
    "collapsed": true
   },
   "outputs": [],
   "source": [
    "import keras.models\n",
    "import tensorflow as tf\n",
    "import keras.layers as layers"
   ]
  },
  {
   "cell_type": "code",
   "execution_count": 75,
   "outputs": [
    {
     "name": "stdout",
     "output_type": "stream",
     "text": [
      "2.9.0\n"
     ]
    }
   ],
   "source": [
    "import tensorflow as tf\n",
    "print(tf.__version__)"
   ],
   "metadata": {
    "collapsed": false,
    "pycharm": {
     "name": "#%%\n"
    }
   }
  },
  {
   "cell_type": "markdown",
   "source": [
    "## Dataset formatting"
   ],
   "metadata": {
    "collapsed": false
   }
  },
  {
   "cell_type": "code",
   "execution_count": 76,
   "outputs": [
    {
     "name": "stdout",
     "output_type": "stream",
     "text": [
      "training set\n",
      "Found 5232 files belonging to 2 classes.\n",
      "Using 4186 files for training.\n",
      "Found 5232 files belonging to 2 classes.\n",
      "Using 1046 files for validation.\n",
      "test set\n",
      "Found 624 files belonging to 2 classes.\n"
     ]
    }
   ],
   "source": [
    "# Define the path to the directory containing the images\n",
    "image_dir_train = '../chest_xray/train/'\n",
    "image_dir_test = '../chest_xray/test/'\n",
    "\n",
    "# Define the batch size and image size for the dataset\n",
    "batch_size = 32\n",
    "img_size = (224, 224)\n",
    "\n",
    "# Use the tf.keras.preprocessing.image_dataset_from_directory function to create the dataset\n",
    "print(\"training set\")\n",
    "train_dataset = tf.keras.preprocessing.image_dataset_from_directory(\n",
    "    image_dir_train,\n",
    "    batch_size=batch_size,\n",
    "    image_size=img_size,\n",
    "    shuffle=True,\n",
    "    seed=123,\n",
    "    validation_split=0.2,\n",
    "    subset='training'\n",
    ")\n",
    "\n",
    "validation_dataset = tf.keras.preprocessing.image_dataset_from_directory(\n",
    "    image_dir_train,\n",
    "    batch_size=batch_size,\n",
    "    image_size=img_size,\n",
    "    shuffle=True,\n",
    "    seed=123,\n",
    "    validation_split=0.2,\n",
    "    subset='validation'\n",
    ")\n",
    "\n",
    "print(\"test set\")\n",
    "test_dataset = tf.keras.preprocessing.image_dataset_from_directory(\n",
    "    image_dir_test,\n",
    "    batch_size=batch_size,\n",
    "    image_size=img_size,\n",
    "    seed=123,\n",
    "    shuffle=True,\n",
    ")"
   ],
   "metadata": {
    "collapsed": false,
    "pycharm": {
     "name": "#%%\n"
    }
   }
  },
  {
   "cell_type": "code",
   "execution_count": 77,
   "outputs": [],
   "source": [
    "# Preprocessing\n",
    "\n",
    "# Normalizing pixel values\n",
    "train_dataset = train_dataset.map(lambda x, y: (x/255.0, y))\n",
    "validation_dataset = validation_dataset.map(lambda x, y: (x/255.0, y))\n",
    "test_dataset = test_dataset.map(lambda x, y: (x/255.0, y))"
   ],
   "metadata": {
    "collapsed": false,
    "pycharm": {
     "name": "#%%\n"
    }
   }
  },
  {
   "cell_type": "markdown",
   "source": [
    "## Making model"
   ],
   "metadata": {
    "collapsed": false
   }
  },
  {
   "cell_type": "code",
   "execution_count": 78,
   "outputs": [],
   "source": [
    "model = keras.models.Sequential()\n",
    "\n",
    "model.add(layers.Conv2D(32, (3,3), activation='relu', input_shape=(224,224,3)))\n",
    "model.add(layers.MaxPool2D(2, 2))\n",
    "model.add(layers.Flatten())\n",
    "model.add(layers.Dense(64, activation='relu'))\n",
    "model.add(layers.Dropout(0.4))\n",
    "model.add(layers.Dense(1, activation='sigmoid'))"
   ],
   "metadata": {
    "collapsed": false,
    "pycharm": {
     "name": "#%%\n"
    }
   }
  },
  {
   "cell_type": "markdown",
   "source": [
    "## Training model"
   ],
   "metadata": {
    "collapsed": false
   }
  },
  {
   "cell_type": "code",
   "execution_count": 79,
   "outputs": [
    {
     "name": "stdout",
     "output_type": "stream",
     "text": [
      "Epoch 1/10\n"
     ]
    },
    {
     "name": "stderr",
     "output_type": "stream",
     "text": [
      "2023-04-06 12:55:49.772724: I tensorflow/core/grappler/optimizers/custom_graph_optimizer_registry.cc:113] Plugin optimizer for device_type GPU is enabled.\n"
     ]
    },
    {
     "name": "stdout",
     "output_type": "stream",
     "text": [
      "131/131 [==============================] - ETA: 0s - loss: 0.8957 - accuracy: 0.8096"
     ]
    },
    {
     "name": "stderr",
     "output_type": "stream",
     "text": [
      "2023-04-06 12:56:16.825515: I tensorflow/core/grappler/optimizers/custom_graph_optimizer_registry.cc:113] Plugin optimizer for device_type GPU is enabled.\n"
     ]
    },
    {
     "name": "stdout",
     "output_type": "stream",
     "text": [
      "131/131 [==============================] - 33s 245ms/step - loss: 0.8957 - accuracy: 0.8096 - val_loss: 0.1767 - val_accuracy: 0.9340\n",
      "Epoch 2/10\n",
      "131/131 [==============================] - 33s 246ms/step - loss: 0.2115 - accuracy: 0.9095 - val_loss: 0.1189 - val_accuracy: 0.9570\n",
      "Epoch 3/10\n",
      "131/131 [==============================] - 32s 244ms/step - loss: 0.1687 - accuracy: 0.9300 - val_loss: 0.1155 - val_accuracy: 0.9627\n",
      "Epoch 4/10\n",
      "131/131 [==============================] - 32s 245ms/step - loss: 0.1488 - accuracy: 0.9405 - val_loss: 0.0916 - val_accuracy: 0.9637\n",
      "Epoch 5/10\n",
      "131/131 [==============================] - 32s 243ms/step - loss: 0.1354 - accuracy: 0.9441 - val_loss: 0.0921 - val_accuracy: 0.9704\n",
      "Epoch 6/10\n",
      "131/131 [==============================] - 32s 242ms/step - loss: 0.1259 - accuracy: 0.9489 - val_loss: 0.1064 - val_accuracy: 0.9656\n",
      "Epoch 7/10\n",
      "131/131 [==============================] - 32s 243ms/step - loss: 0.1271 - accuracy: 0.9522 - val_loss: 0.0984 - val_accuracy: 0.9637\n",
      "Epoch 8/10\n",
      "131/131 [==============================] - 33s 247ms/step - loss: 0.1123 - accuracy: 0.9570 - val_loss: 0.0729 - val_accuracy: 0.9761\n",
      "Epoch 9/10\n",
      "131/131 [==============================] - 33s 251ms/step - loss: 0.1014 - accuracy: 0.9611 - val_loss: 0.0719 - val_accuracy: 0.9704\n",
      "Epoch 10/10\n",
      "131/131 [==============================] - 33s 250ms/step - loss: 0.0900 - accuracy: 0.9661 - val_loss: 0.0667 - val_accuracy: 0.9751\n"
     ]
    }
   ],
   "source": [
    "# Train the model\n",
    "model.compile(loss='binary_crossentropy', optimizer='adam', metrics=['accuracy'])\n",
    "model.fit(train_dataset, epochs=10, validation_data=validation_dataset)\n",
    "model.save('models/my_custom_model.h5')\n"
   ],
   "metadata": {
    "collapsed": false,
    "pycharm": {
     "name": "#%%\n"
    }
   }
  },
  {
   "cell_type": "code",
   "execution_count": 80,
   "outputs": [
    {
     "name": "stdout",
     "output_type": "stream",
     "text": [
      "20/20 [==============================] - 4s 176ms/step - loss: 0.7148 - accuracy: 0.8189\n",
      "Test accuracy: 0.8189102411270142\n"
     ]
    }
   ],
   "source": [
    "# Evaluate the model on the test dataset\n",
    "test_loss, test_accuracy = model.evaluate(test_dataset)\n",
    "\n",
    "# Print the test accuracy\n",
    "print('Test accuracy:', test_accuracy)"
   ],
   "metadata": {
    "collapsed": false,
    "pycharm": {
     "name": "#%%\n"
    }
   }
  },
  {
   "cell_type": "code",
   "execution_count": 80,
   "outputs": [],
   "source": [],
   "metadata": {
    "collapsed": false,
    "pycharm": {
     "name": "#%%\n"
    }
   }
  }
 ],
 "metadata": {
  "kernelspec": {
   "display_name": "Python 3",
   "language": "python",
   "name": "python3"
  },
  "language_info": {
   "codemirror_mode": {
    "name": "ipython",
    "version": 2
   },
   "file_extension": ".py",
   "mimetype": "text/x-python",
   "name": "python",
   "nbconvert_exporter": "python",
   "pygments_lexer": "ipython2",
   "version": "2.7.6"
  }
 },
 "nbformat": 4,
 "nbformat_minor": 0
}