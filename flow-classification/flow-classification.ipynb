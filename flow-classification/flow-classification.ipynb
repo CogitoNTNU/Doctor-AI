{
 "cells": [
  {
   "cell_type": "code",
   "execution_count": 8,
   "metadata": {
    "collapsed": true
   },
   "outputs": [],
   "source": [
    "import keras.models\n",
    "import tensorflow as tf\n",
    "import keras.layers as layers"
   ]
  },
  {
   "cell_type": "code",
   "execution_count": 9,
   "outputs": [
    {
     "name": "stdout",
     "output_type": "stream",
     "text": [
      "2.9.0\n"
     ]
    }
   ],
   "source": [
    "import tensorflow as tf\n",
    "print(tf.__version__)"
   ],
   "metadata": {
    "collapsed": false,
    "pycharm": {
     "name": "#%%\n"
    }
   }
  },
  {
   "cell_type": "markdown",
   "source": [
    "## Dataset formatting"
   ],
   "metadata": {
    "collapsed": false
   }
  },
  {
   "cell_type": "code",
   "execution_count": 10,
   "outputs": [
    {
     "name": "stdout",
     "output_type": "stream",
     "text": [
      "Found 5232 files belonging to 2 classes.\n",
      "Using 4186 files for training.\n",
      "Found 5232 files belonging to 2 classes.\n",
      "Using 1046 files for validation.\n"
     ]
    }
   ],
   "source": [
    "# Define the path to the directory containing the images\n",
    "image_dir = '../chest_xray/train'\n",
    "\n",
    "# Define the batch size and image size for the dataset\n",
    "batch_size = 32\n",
    "img_size = (224, 224)\n",
    "\n",
    "# Use the tf.keras.preprocessing.image_dataset_from_directory function to create the dataset\n",
    "train_dataset = tf.keras.preprocessing.image_dataset_from_directory(\n",
    "    image_dir,\n",
    "    batch_size=batch_size,\n",
    "    image_size=img_size,\n",
    "    shuffle=True,\n",
    "    seed=123,\n",
    "    validation_split=0.2,\n",
    "    subset='training'\n",
    ")\n",
    "\n",
    "validation_dataset = tf.keras.preprocessing.image_dataset_from_directory(\n",
    "    image_dir,\n",
    "    batch_size=batch_size,\n",
    "    image_size=img_size,\n",
    "    shuffle=True,\n",
    "    seed=123,\n",
    "    validation_split=0.2,\n",
    "    subset='validation'\n",
    ")"
   ],
   "metadata": {
    "collapsed": false,
    "pycharm": {
     "name": "#%%\n"
    }
   }
  },
  {
   "cell_type": "code",
   "execution_count": 11,
   "outputs": [],
   "source": [
    "# Preprocessing\n",
    "\n",
    "# Normalizing pixel values\n",
    "train_dataset = train_dataset.map(lambda x, y: (x/255.0, y))\n",
    "\n"
   ],
   "metadata": {
    "collapsed": false,
    "pycharm": {
     "name": "#%%\n"
    }
   }
  },
  {
   "cell_type": "markdown",
   "source": [
    "## Making model"
   ],
   "metadata": {
    "collapsed": false
   }
  },
  {
   "cell_type": "code",
   "execution_count": 13,
   "outputs": [],
   "source": [
    "model = keras.models.Sequential()\n",
    "\n",
    "model.add(layers.Conv2D(32, (3,3), activation='relu', input_shape=(224,224,3)))\n",
    "model.add(layers.MaxPool2D(2, 2))\n",
    "model.add(layers.Flatten())\n",
    "model.add(layers.Dense(64, activation='relu'))\n",
    "model.add(layers.Dense(1, activation='sigmoid'))"
   ],
   "metadata": {
    "collapsed": false,
    "pycharm": {
     "name": "#%%\n"
    }
   }
  },
  {
   "cell_type": "markdown",
   "source": [
    "## Training model"
   ],
   "metadata": {
    "collapsed": false
   }
  },
  {
   "cell_type": "code",
   "execution_count": 15,
   "outputs": [
    {
     "name": "stdout",
     "output_type": "stream",
     "text": [
      "Epoch 1/10\n"
     ]
    },
    {
     "name": "stderr",
     "output_type": "stream",
     "text": [
      "2023-04-06 11:36:08.943985: W tensorflow/core/platform/profile_utils/cpu_utils.cc:128] Failed to get CPU frequency: 0 Hz\n",
      "2023-04-06 11:36:09.183201: I tensorflow/core/grappler/optimizers/custom_graph_optimizer_registry.cc:113] Plugin optimizer for device_type GPU is enabled.\n"
     ]
    },
    {
     "name": "stdout",
     "output_type": "stream",
     "text": [
      "131/131 [==============================] - 29s 201ms/step - loss: 0.7210 - accuracy: 0.8906\n",
      "Epoch 2/10\n",
      "131/131 [==============================] - 26s 198ms/step - loss: 0.0672 - accuracy: 0.9783\n",
      "Epoch 3/10\n",
      "131/131 [==============================] - 26s 197ms/step - loss: 0.0315 - accuracy: 0.9907\n",
      "Epoch 4/10\n",
      "131/131 [==============================] - 26s 198ms/step - loss: 0.0227 - accuracy: 0.9940\n",
      "Epoch 5/10\n",
      "131/131 [==============================] - 26s 196ms/step - loss: 0.0152 - accuracy: 0.9964\n",
      "Epoch 6/10\n",
      "131/131 [==============================] - 26s 196ms/step - loss: 0.0047 - accuracy: 0.9998\n",
      "Epoch 7/10\n",
      "131/131 [==============================] - 26s 196ms/step - loss: 0.0029 - accuracy: 1.0000\n",
      "Epoch 8/10\n",
      "131/131 [==============================] - 26s 197ms/step - loss: 0.0013 - accuracy: 1.0000\n",
      "Epoch 9/10\n",
      "131/131 [==============================] - 26s 197ms/step - loss: 9.6930e-04 - accuracy: 1.0000\n",
      "Epoch 10/10\n",
      "131/131 [==============================] - 26s 197ms/step - loss: 7.0486e-04 - accuracy: 1.0000\n"
     ]
    },
    {
     "data": {
      "text/plain": "<keras.callbacks.History at 0x2b7bfb400>"
     },
     "execution_count": 15,
     "metadata": {},
     "output_type": "execute_result"
    }
   ],
   "source": [
    "# Train the model\n",
    "model.compile(loss='binary_crossentropy', optimizer='adam', metrics=['accuracy'])\n",
    "model.fit(train_dataset, epochs=10)\n"
   ],
   "metadata": {
    "collapsed": false,
    "pycharm": {
     "name": "#%%\n"
    }
   }
  },
  {
   "cell_type": "code",
   "execution_count": null,
   "outputs": [],
   "source": [],
   "metadata": {
    "collapsed": false,
    "pycharm": {
     "name": "#%%\n"
    }
   }
  }
 ],
 "metadata": {
  "kernelspec": {
   "display_name": "Python 3",
   "language": "python",
   "name": "python3"
  },
  "language_info": {
   "codemirror_mode": {
    "name": "ipython",
    "version": 2
   },
   "file_extension": ".py",
   "mimetype": "text/x-python",
   "name": "python",
   "nbconvert_exporter": "python",
   "pygments_lexer": "ipython2",
   "version": "2.7.6"
  }
 },
 "nbformat": 4,
 "nbformat_minor": 0
}